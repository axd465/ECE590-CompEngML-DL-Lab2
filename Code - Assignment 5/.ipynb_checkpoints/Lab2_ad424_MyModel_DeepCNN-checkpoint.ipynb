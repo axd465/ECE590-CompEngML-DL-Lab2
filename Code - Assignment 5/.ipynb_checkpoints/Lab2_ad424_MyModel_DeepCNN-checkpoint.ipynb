{
 "cells": [
  {
   "cell_type": "markdown",
   "metadata": {},
   "source": [
    "# ECE 590 - Lab2 - My Model Cifar 10 - Anthony DiSpirito"
   ]
  },
  {
   "cell_type": "markdown",
   "metadata": {},
   "source": [
    "## My Info\n",
    "* **Name: Anthony DiSpirito**\n",
    "* **NetID: ad424**\n",
    "* **Class: ECE 590 - Comp Eng ML and DL**\n",
    "* **Title: Lab2 - My Model**\n",
    "* **Date: 10/2/19**"
   ]
  },
  {
   "cell_type": "markdown",
   "metadata": {},
   "source": [
    "## Build My Model"
   ]
  },
  {
   "cell_type": "markdown",
   "metadata": {},
   "source": [
    "### Import Statements"
   ]
  },
  {
   "cell_type": "code",
   "execution_count": 1,
   "metadata": {},
   "outputs": [],
   "source": [
    "import argparse\n",
    "import os, sys\n",
    "import math\n",
    "import random\n",
    "import time\n",
    "import datetime\n",
    "import numpy as np\n",
    "import pandas as pd\n",
    "import csv\n",
    "import numpy.matlib\n",
    "import matplotlib.pyplot as plt\n",
    "\n",
    "# Import pytorch dependencies\n",
    "import torch\n",
    "import torch.nn as nn\n",
    "import torch.nn.functional as F\n",
    "import torchvision\n",
    "import torchvision.transforms as transforms\n",
    "import torch.optim as optim\n",
    "import torch.backends.cudnn as cudnn\n",
    "from tqdm import tqdm_notebook as tqdm\n",
    "\n",
    "# You cannot change this line.\n",
    "from tools.dataloader import CIFAR10\n",
    "from tools.my_testset_dataloader import TESTSET"
   ]
  },
  {
   "cell_type": "markdown",
   "metadata": {},
   "source": [
    "### My Model Class"
   ]
  },
  {
   "cell_type": "code",
   "execution_count": 28,
   "metadata": {},
   "outputs": [],
   "source": [
    "# Create the neural network module:\n",
    "class convBlock(nn.Module):\n",
    "    def __init__(self, k, channel_in, channel_out, layers, padding):\n",
    "        super(convBlock, self).__init__()\n",
    "        self.layers = layers\n",
    "        if padding == False:\n",
    "            self.conv1 = nn.Conv2d(channel_in, channel_out, k, padding=0, dilation=1,\n",
    "                                   groups=1, bias=True, padding_mode='zeros')\n",
    "            self.bn_conv1 = nn.BatchNorm2d(channel_out, eps=1e-05,momentum=0.1, \n",
    "                                       affine=True, track_running_stats=True)\n",
    "            if layers > 1:\n",
    "                self.conv2 = nn.Conv2d(channel_out, channel_out, k, padding=0, dilation=1,\n",
    "                                   groups=1, bias=True, padding_mode='zeros')\n",
    "                self.bn_conv2 = nn.BatchNorm2d(channel_out, eps=1e-05,momentum=0.1, \n",
    "                                       affine=True, track_running_stats=True)\n",
    "                if layers > 2:\n",
    "                    self.conv3 = nn.Conv2d(channel_out, channel_out, k, padding=0, dilation=1,\n",
    "                                   groups=1, bias=True, padding_mode='zeros')\n",
    "                    self.bn_conv3 = nn.BatchNorm2d(channel_out, eps=1e-05,momentum=0.1, \n",
    "                                       affine=True, track_running_stats=True)\n",
    "                    if layers > 3:\n",
    "                        self.conv4 = nn.Conv2d(channel_out, channel_out, k, padding=0, dilation=1,\n",
    "                                   groups=1, bias=True, padding_mode='zeros')\n",
    "                        self.bn_conv4 = nn.BatchNorm2d(channel_out, eps=1e-05,momentum=0.1, \n",
    "                                       affine=True, track_running_stats=True)\n",
    "            \n",
    "        else:\n",
    "            self.conv1 = nn.Conv2d(channel_in, channel_out, k, padding=k//2, dilation=1,\n",
    "                                   groups=1, bias=True, padding_mode='zeros')\n",
    "            self.bn_conv1 = nn.BatchNorm2d(channel_out, eps=1e-05,momentum=0.1, \n",
    "                                       affine=True, track_running_stats=True)\n",
    "            if layers > 1:\n",
    "                self.conv2 = nn.Conv2d(channel_out, channel_out, k, padding=k//2, dilation=1,\n",
    "                                   groups=1, bias=True, padding_mode='zeros')\n",
    "                self.bn_conv2 = nn.BatchNorm2d(channel_out, eps=1e-05,momentum=0.1, \n",
    "                                       affine=True, track_running_stats=True)\n",
    "                if layers > 2:\n",
    "                    self.conv3 = nn.Conv2d(channel_out, channel_out, k, padding=k//2, dilation=1,\n",
    "                                   groups=1, bias=True, padding_mode='zeros')\n",
    "                    self.bn_conv3 = nn.BatchNorm2d(channel_out, eps=1e-05,momentum=0.1, \n",
    "                                       affine=True, track_running_stats=True)\n",
    "                    if layers > 3:\n",
    "                        self.conv4 = nn.Conv2d(channel_out, channel_out, k, padding=k//2, dilation=1,\n",
    "                                   groups=1, bias=True, padding_mode='zeros')\n",
    "                        self.bn_conv4 = nn.BatchNorm2d(channel_out, eps=1e-05,momentum=0.1, \n",
    "                                       affine=True, track_running_stats=True)\n",
    "    def forward(self, x):\n",
    "        out = F.elu(self.bn_conv1(self.conv1(x)))\n",
    "        if self.layers > 1:\n",
    "            out = F.elu(self.bn_conv2(self.conv2(out)))\n",
    "            if self.layers > 2:\n",
    "                out = F.elu(self.bn_conv3(self.conv3(out)))\n",
    "                if self.layers > 3:\n",
    "                    out = F.elu(self.bn_conv4(self.conv4(out)))\n",
    "        out = F.max_pool2d(out, 2)\n",
    "        return out\n",
    "# Defining the actual net     \n",
    "class TONY_NET(nn.Module):\n",
    "    def __init__(self):\n",
    "        super(TONY_NET, self).__init__()\n",
    "        self.convBlock1 = convBlock(k = 3, channel_in = 3, channel_out = 64, layers = 2, padding = True)\n",
    "        self.convBlock2 = convBlock(k = 3, channel_in = 64, channel_out = 128, layers = 2, padding = True)\n",
    "        self.convBlock3 = convBlock(k = 3, channel_in = 128, channel_out = 256, layers = 4, padding = True)\n",
    "        self.convBlock4 = convBlock(k = 3, channel_in = 256, channel_out = 512, layers = 4, padding = True)\n",
    "        self.convBlock5 = convBlock(k = 3, channel_in = 512, channel_out = 512, layers = 4, padding = True)\n",
    "        #------------------\n",
    "        orig_input_size = 32 # 32x32\n",
    "        number_of_conv_block_poolings = 5\n",
    "        pooling_size = 2 # 2x2 with stride 2\n",
    "        num_features = int(512*(orig_input_size*(1/(pooling_size**number_of_conv_block_poolings)))**2)\n",
    "        self.fc1 = nn.Linear(num_features, num_features, bias = True)\n",
    "        torch.nn.init.xavier_normal_(self.fc1.weight)\n",
    "        self.dropout_fc1 = nn.Dropout(p = 0.5) # Dropout suggested in slides\n",
    "        #------------------\n",
    "        self.fc2 = nn.Linear(num_features, num_features//4, bias = True)\n",
    "        torch.nn.init.xavier_normal_(self.fc2.weight)\n",
    "        self.dropout_fc2 = nn.Dropout(p = 0.5) # Dropout suggested in slides\n",
    "        #------------------\n",
    "        self.fc3 = nn.Linear(num_features//4, num_features//8, bias = True)\n",
    "        torch.nn.init.xavier_normal_(self.fc3.weight)\n",
    "        self.dropout_fc3 = nn.Dropout(p = 0.5) # Dropout suggested in slides\n",
    "        #------------------\n",
    "        self.fc4 = nn.Linear(num_features//8, 10, bias = True)\n",
    "        torch.nn.init.xavier_normal_(self.fc4.weight)\n",
    "        return\n",
    "    def forward(self, x):\n",
    "        out = self.convBlock1(x)\n",
    "        out = self.convBlock2(out)\n",
    "        out = self.convBlock3(out)\n",
    "        out = self.convBlock4(out)\n",
    "        out = self.convBlock5(out)\n",
    "        #------------------\n",
    "        out = out.view(out.size(0), -1) #This is a flattening layer\n",
    "        out = F.elu(self.fc1(out))\n",
    "        out = self.dropout_fc1(out)\n",
    "        out = F.elu(self.fc2(out))\n",
    "        out = self.dropout_fc2(out)   \n",
    "        out = F.elu(self.fc3(out))\n",
    "        out = self.dropout_fc3(out)\n",
    "        out = F.elu(self.fc4(out))\n",
    "        return out"
   ]
  },
  {
   "cell_type": "markdown",
   "metadata": {},
   "source": [
    "### Setting Hyperparameters"
   ]
  },
  {
   "cell_type": "code",
   "execution_count": 22,
   "metadata": {},
   "outputs": [],
   "source": [
    "# Setting some hyperparameters\n",
    "TRAIN_BATCH_SIZE = 128#256\n",
    "VAL_BATCH_SIZE = 100#200\n",
    "INITIAL_LR = 0.00785\n",
    "MOMENTUM = 0.9\n",
    "REG = 5e-4\n",
    "EPOCHS = 150\n",
    "DATAROOT = \"./data\"\n",
    "CHECKPOINT_PATH = \"./saved_model\""
   ]
  },
  {
   "cell_type": "code",
   "execution_count": 13,
   "metadata": {},
   "outputs": [],
   "source": [
    "# Specify preprocessing function.\n",
    "# Reference mean/std value\n",
    "mean_RGB = (0.4914, 0.4822, 0.4465)\n",
    "std_RGB = (0.2023, 0.1994, 0.2010)\n",
    "input_img_size = (32,32)\n",
    "percent_crop = 0.80 # 80 percent left after crop\n",
    "data_augment_list = [transforms.RandomVerticalFlip(p = 0.20),\n",
    "                     transforms.RandomHorizontalFlip(p = 0.40),\n",
    "                     transforms.RandomApply([transforms.RandomCrop(size = input_img_size, padding=4, pad_if_needed=False, fill=0, padding_mode='constant')], p = 0.25),\n",
    "                     transforms.RandomApply([transforms.RandomAffine(degrees = 45, translate=(0.15,0.15), scale=None, shear=None, resample=False, fillcolor=0)], p = 0.25),\n",
    "                     transforms.RandomApply([transforms.ColorJitter(brightness=0.1, contrast=0.1, saturation=0.1, hue=0.05)], p = 0.20)]\n",
    "transform_train = transforms.Compose([transforms.Resize(input_img_size),\n",
    "                                      transforms.RandomOrder(data_augment_list),\n",
    "                                      transforms.ToTensor(),\n",
    "                                      transforms.RandomErasing(p=0.20, scale=(0.01, 0.3), ratio=(0.3, 3.3), value=0, inplace=False),\n",
    "                                      transforms.Normalize(mean_RGB, std_RGB)])\n",
    "transform_val = transforms.Compose([transforms.Resize(input_img_size),\n",
    "                                    transforms.ToTensor(),\n",
    "                                    transforms.Normalize(mean_RGB, std_RGB)])"
   ]
  },
  {
   "cell_type": "code",
   "execution_count": 5,
   "metadata": {},
   "outputs": [
    {
     "name": "stdout",
     "output_type": "stream",
     "text": [
      "Using downloaded and verified file: ./data\\cifar10_trainval.tar.gz\n",
      "Extracting ./data\\cifar10_trainval.tar.gz to ./data\n",
      "Files already downloaded and verified\n",
      "Using downloaded and verified file: ./data\\cifar10_trainval.tar.gz\n",
      "Extracting ./data\\cifar10_trainval.tar.gz to ./data\n",
      "Files already downloaded and verified\n"
     ]
    }
   ],
   "source": [
    "# Call the dataset Loader\n",
    "num_threads = 16\n",
    "trainset = CIFAR10(root=DATAROOT, train=True, download=True, transform=transform_train)\n",
    "trainloader = torch.utils.data.DataLoader(trainset, batch_size=TRAIN_BATCH_SIZE, shuffle=True, num_workers=num_threads//2)\n",
    "valset = CIFAR10(root=DATAROOT, train=False, download=True, transform=transform_val)\n",
    "valloader = torch.utils.data.DataLoader(valset, batch_size=VAL_BATCH_SIZE, shuffle=False, num_workers=num_threads//2)"
   ]
  },
  {
   "cell_type": "code",
   "execution_count": 23,
   "metadata": {},
   "outputs": [
    {
     "name": "stdout",
     "output_type": "stream",
     "text": [
      "Train on GPU...\n"
     ]
    }
   ],
   "source": [
    "# Specify the device for computation\n",
    "device = 'cuda' if torch.cuda.is_available() else 'cpu'\n",
    "net = TONY_NET()\n",
    "net = net.to(device)\n",
    "if device =='cuda':\n",
    "    print(\"Train on GPU...\")\n",
    "else:\n",
    "    print(\"Train on CPU...\")"
   ]
  },
  {
   "cell_type": "code",
   "execution_count": 24,
   "metadata": {},
   "outputs": [
    {
     "name": "stdout",
     "output_type": "stream",
     "text": [
      "Training from scratch ...\n",
      "Starting from learning rate 0.007850:\n"
     ]
    }
   ],
   "source": [
    "# FLAG for loading the pretrained model\n",
    "TRAIN_FROM_SCRATCH = True\n",
    "# Code for loading checkpoint and recover epoch id.\n",
    "CKPT_PATH = \"./saved_model/model.h5\"\n",
    "def get_checkpoint(ckpt_path):\n",
    "    try:\n",
    "        ckpt = torch.load(ckpt_path)\n",
    "    except Exception as e:\n",
    "        print(e)\n",
    "        return None\n",
    "    return ckpt\n",
    "\n",
    "ckpt = get_checkpoint(CKPT_PATH)\n",
    "if ckpt is None or TRAIN_FROM_SCRATCH:\n",
    "    if not TRAIN_FROM_SCRATCH:\n",
    "        print(\"Checkpoint not found.\")\n",
    "    print(\"Training from scratch ...\")\n",
    "    start_epoch = 0\n",
    "    current_learning_rate = INITIAL_LR\n",
    "else:\n",
    "    print(\"Successfully loaded checkpoint: %s\" %CKPT_PATH)\n",
    "    net.load_state_dict(ckpt['net'])\n",
    "    start_epoch = ckpt['epoch'] + 1\n",
    "    current_learning_rate = ckpt['lr']\n",
    "    print(\"Starting from epoch %d \" %start_epoch)\n",
    "\n",
    "print(\"Starting from learning rate %f:\" %current_learning_rate)"
   ]
  },
  {
   "cell_type": "code",
   "execution_count": 25,
   "metadata": {},
   "outputs": [],
   "source": [
    "# Create loss function and specify regularization\n",
    "criterion = nn.CrossEntropyLoss()\n",
    "# Add optimizer\n",
    "optimizer = optim.SGD(net.parameters(), INITIAL_LR, MOMENTUM, weight_decay=REG, nesterov = True)"
   ]
  },
  {
   "cell_type": "markdown",
   "metadata": {},
   "source": [
    "### Training and Validation of TONY_NET()"
   ]
  },
  {
   "cell_type": "code",
   "execution_count": null,
   "metadata": {},
   "outputs": [],
   "source": [
    "# Start the training/validation process\n",
    "global_step = 0\n",
    "best_val_acc = 0\n",
    "\n",
    "# Initializing Log Variables\n",
    "avg_train_loss_log = np.zeros(EPOCHS)\n",
    "avg_train_acc_log = np.zeros(EPOCHS)\n",
    "avg_val_loss_log = np.zeros(EPOCHS)\n",
    "avg_val_acc_log = np.zeros(EPOCHS)\n",
    "\n",
    "for i in range(start_epoch, EPOCHS):\n",
    "    print(datetime.datetime.now())\n",
    "    # Switch to train mode\n",
    "    net.train()\n",
    "    print(\"Epoch %d:\" %i)\n",
    "\n",
    "    total_examples = 0\n",
    "    correct_examples = 0\n",
    "\n",
    "    train_loss = 0\n",
    "    train_acc = 0\n",
    "    # Train the training dataset for 1 epoch.\n",
    "    print(len(trainloader))\n",
    "    for batch_idx, (inputs, targets) in enumerate(trainloader):\n",
    "        # Copy inputs to device\n",
    "        inputs = inputs.to(device)\n",
    "        targets = targets.to(device)\n",
    "        # Zero the gradient\n",
    "        optimizer.zero_grad()\n",
    "        # Generate output\n",
    "        outputs = net(inputs)\n",
    "        loss = criterion(outputs, targets)\n",
    "        # Now backward loss\n",
    "        loss.backward()\n",
    "        # Apply gradient\n",
    "        optimizer.step()\n",
    "        # Calculate predicted labels\n",
    "        _, predicted = torch.max(outputs.data, 1)\n",
    "        # Calculate accuracy\n",
    "        total_examples += targets.size(0)\n",
    "        correct_examples += predicted.eq(targets.data).sum().item()\n",
    "        train_loss += loss.data.item()\n",
    "\n",
    "        global_step += 1\n",
    "        if global_step % 100 == 0:\n",
    "            avg_loss = train_loss / (batch_idx + 1)\n",
    "        pass\n",
    "    avg_acc = correct_examples / total_examples\n",
    "    print(\"Training loss: %.4f, Training accuracy: %.4f %%\" %(avg_loss, avg_acc*100))\n",
    "    \n",
    "    # Training Log\n",
    "    avg_train_loss_log[i] = avg_loss\n",
    "    avg_train_acc_log[i] = avg_acc\n",
    "    \n",
    "    print(datetime.datetime.now())\n",
    "    # Validate on the validation dataset\n",
    "    print(\"Validation...\")\n",
    "    total_examples = 0\n",
    "    correct_examples = 0\n",
    "    \n",
    "    net.eval()\n",
    "\n",
    "    val_loss = 0\n",
    "    val_acc = 0\n",
    "    # Disable gradient during validation\n",
    "    with torch.no_grad():\n",
    "        for batch_idx, (inputs, targets) in enumerate(valloader):\n",
    "            # Copy inputs to device\n",
    "            inputs = inputs.to(device)\n",
    "            targets = targets.to(device)\n",
    "            # Zero the gradient\n",
    "            optimizer.zero_grad()\n",
    "            # Generate output from the DNN.\n",
    "            outputs = net(inputs)\n",
    "            loss = criterion(outputs, targets)\n",
    "            # Calculate predicted labels\n",
    "            _, predicted = torch.max(outputs.data, 1)\n",
    "            # Calculate accuracy\n",
    "            total_examples += targets.size(0)\n",
    "            correct_examples += predicted.eq(targets.data).sum().item()\n",
    "            val_loss += loss.data.item()\n",
    "\n",
    "    avg_loss = val_loss / len(valloader)\n",
    "    avg_acc = correct_examples / total_examples\n",
    "    print(\"Validation loss: %.4f, Validation accuracy: %.4f %%\" %(avg_loss, avg_acc*100))\n",
    "    \n",
    "    # Validation Log\n",
    "    avg_val_loss_log[i] = avg_loss\n",
    "    avg_val_acc_log[i] = avg_acc\n",
    "    \n",
    "    # Learning Rate Decay and Model Saving\n",
    "    DECAY_EPOCHS = 2\n",
    "    DECAY = 0.96#0.98\n",
    "    if i % DECAY_EPOCHS == 0 and i != 0:\n",
    "        current_learning_rate = INITIAL_LR*(DECAY**(i//DECAY_EPOCHS))   \n",
    "        for param_group in optimizer.param_groups:\n",
    "            # Assign the learning rate parameter\n",
    "            param_group['lr'] = current_learning_rate\n",
    "        print(\"Current learning rate has decayed to %f\" %(current_learning_rate))\n",
    "    # Save for checkpoint\n",
    "    if avg_acc > best_val_acc:\n",
    "        best_val_acc = avg_acc\n",
    "        if not os.path.exists(CHECKPOINT_PATH):\n",
    "            os.makedirs(CHECKPOINT_PATH)\n",
    "        print(\"Saving ...\")\n",
    "        state = {'net': net.state_dict(),\n",
    "                 'epoch': i,\n",
    "                 'lr': current_learning_rate}\n",
    "        torch.save(state, os.path.join(CHECKPOINT_PATH, 'model.h5'))\n",
    "\n",
    "print(\"Optimization finished.\")"
   ]
  },
  {
   "cell_type": "code",
   "execution_count": 27,
   "metadata": {},
   "outputs": [
    {
     "data": {
      "image/png": "[encoded data removed]",
      "text/plain": [
       "<Figure size 432x288 with 1 Axes>"
      ]
     },
     "metadata": {
      "needs_background": "light"
     },
     "output_type": "display_data"
    },
    {
     "data": {
      "image/png": "[encoded data removed]",
      "text/plain": [
       "<Figure size 432x288 with 1 Axes>"
      ]
     },
     "metadata": {
      "needs_background": "light"
     },
     "output_type": "display_data"
    }
   ],
   "source": [
    "# Plotting Accuracy Curves\n",
    "plt.plot(range(0, EPOCHS), avg_train_acc_log, range(0, EPOCHS), avg_val_acc_log)\n",
    "plt.title(\"Train Acc and Val Acc vs Epochs\")\n",
    "plt.xlabel(\"Epochs\")\n",
    "plt.ylabel(\"Accuracy\")\n",
    "plt.legend([\"Train Acc\",\"Val Acc\"])\n",
    "plt.show()\n",
    "# Plotting Loss Curves\n",
    "plt.plot(range(0, EPOCHS), avg_train_loss_log, range(0, EPOCHS), avg_val_loss_log)\n",
    "plt.title(\"Train Loss and Val Loss vs Epochs\")\n",
    "plt.xlabel(\"Epochs\")\n",
    "plt.ylabel(\"Loss\")\n",
    "plt.legend([\"Train Loss\",\"Val Loss\"])\n",
    "plt.show()"
   ]
  },
  {
   "cell_type": "code",
   "execution_count": null,
   "metadata": {},
   "outputs": [],
   "source": [
    "# Saving Log Files\n",
    "# Defining my Logging Object\n",
    "with open('./logs/train_and_val_logs.csv', 'w') as filename:\n",
    "    filename.write('epoch, train_loss, train_acc, val_acc, val_loss\\n')\n",
    "    for i in range(1, EPOCHS):\n",
    "        filename.write(\"%d, %0.5f, %0.5f, %0.5f, %0.5f\\n\" % (i, avg_train_acc_log[i], avg_train_loss_log[i], avg_val_acc_log[i], avg_val_loss_log[i]))\n",
    "        \n"
   ]
  },
  {
   "cell_type": "markdown",
   "metadata": {},
   "source": [
    "### Testing TONY_NET() Saved Model"
   ]
  },
  {
   "cell_type": "code",
   "execution_count": null,
   "metadata": {},
   "outputs": [],
   "source": [
    "# Loading Test Set Images\n",
    "num_threads = 16\n",
    "testset = TESTSET(root=DATAROOT, transform=transform_val) # See tools folder and my_testset_loader.py file\n",
    "testloader = torch.utils.data.DataLoader(testset, batch_size=VAL_BATCH_SIZE, shuffle=False, num_workers=num_threads//2)"
   ]
  },
  {
   "cell_type": "code",
   "execution_count": null,
   "metadata": {},
   "outputs": [],
   "source": [
    "# Pretty much a combination of code from above to get label predictions on test set\n",
    "CKPT_PATH = \"./saved_model/model.h5\"\n",
    "def get_checkpoint(ckpt_path):\n",
    "    try:\n",
    "        ckpt = torch.load(ckpt_path)\n",
    "    except Exception as e:\n",
    "        print(e)\n",
    "        return None\n",
    "    return ckpt\n",
    "\n",
    "ckpt = get_checkpoint(CKPT_PATH)\n",
    "net.load_state_dict(ckpt['net'])\n",
    "device = 'cuda' if torch.cuda.is_available() else 'cpu'\n",
    "# Create loss function and specify regularization\n",
    "criterion = nn.CrossEntropyLoss()\n",
    "# Add optimizer\n",
    "optimizer = optim.SGD(net.parameters(), INITIAL_LR, MOMENTUM, weight_decay=REG, nesterov = True)\n",
    "net = net.to(device)\n",
    "net.eval()\n",
    "\n",
    "TEST_LEN = 10000\n",
    "TEST_CAT = 2\n",
    "\n",
    "test_loss = 0\n",
    "test_acc = 0\n",
    "pred_log = np.zeros((TEST_LEN, TEST_CAT), dtype = int)\n",
    "pred_log[:,0] = np.arange(0,TEST_LEN, dtype = int)\n",
    "# Disable gradient during validation\n",
    "with torch.no_grad():\n",
    "    for i, (inputs) in enumerate(testloader):\n",
    "        # Copy inputs to device\n",
    "        inputs = inputs.to(device)\n",
    "        # Zero the gradient\n",
    "        optimizer.zero_grad()\n",
    "        # Generate output from the DNN.\n",
    "        outputs = net(inputs)\n",
    "        # Calculate predicted labels\n",
    "        _, predicted = torch.max(outputs.data, 1)\n",
    "        pred_index = VAL_BATCH_SIZE*i\n",
    "        pred_log[pred_index : (pred_index+len(predicted)), 1] = predicted.data.cpu().numpy() # cpu()-> Fix Error: Use Tensor.cpu() to copy the tensor to host memory first.\n",
    "        \n",
    "pred_log = pred_log.astype(int)"
   ]
  },
  {
   "cell_type": "markdown",
   "metadata": {},
   "source": [
    "### Save Model Test Predictions to .csv File"
   ]
  },
  {
   "cell_type": "code",
   "execution_count": null,
   "metadata": {},
   "outputs": [],
   "source": [
    "test_df = pd.DataFrame({'Id': pred_log[:,0],\n",
    "                       'Category': pred_log[:,1]})\n",
    "test_df.to_csv(r'./test_results.csv', index=False)"
   ]
  },
  {
   "cell_type": "code",
   "execution_count": null,
   "metadata": {},
   "outputs": [],
   "source": []
  }
 ],
 "metadata": {
  "kernelspec": {
   "display_name": "Python 3",
   "language": "python",
   "name": "python3"
  },
  "language_info": {
   "codemirror_mode": {
    "name": "ipython",
    "version": 3
   },
   "file_extension": ".py",
   "mimetype": "text/x-python",
   "name": "python",
   "nbconvert_exporter": "python",
   "pygments_lexer": "ipython3",
   "version": "3.7.4"
  }
 },
 "nbformat": 4,
 "nbformat_minor": 4
}
